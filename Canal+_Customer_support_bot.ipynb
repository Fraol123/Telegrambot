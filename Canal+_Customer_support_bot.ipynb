{
  "nbformat": 4,
  "nbformat_minor": 0,
  "metadata": {
    "colab": {
      "provenance": [],
      "authorship_tag": "ABX9TyOlSsqas4PUmb3f90bQY/FN",
      "include_colab_link": true
    },
    "kernelspec": {
      "name": "python3",
      "display_name": "Python 3"
    },
    "language_info": {
      "name": "python"
    }
  },
  "cells": [
    {
      "cell_type": "markdown",
      "metadata": {
        "id": "view-in-github",
        "colab_type": "text"
      },
      "source": [
        "<a href=\"https://colab.research.google.com/github/Fraol123/Telegrambot/blob/main/Canal%2B_Customer_support_bot.ipynb\" target=\"_parent\"><img src=\"https://colab.research.google.com/assets/colab-badge.svg\" alt=\"Open In Colab\"/></a>"
      ]
    },
    {
      "cell_type": "code",
      "execution_count": 1,
      "metadata": {
        "colab": {
          "base_uri": "https://localhost:8080/"
        },
        "id": "1IbTR8AohtLF",
        "outputId": "f3f1e627-b8a8-46e3-aba7-7d66a67b84ad"
      },
      "outputs": [
        {
          "output_type": "stream",
          "name": "stdout",
          "text": [
            "Collecting python-telegram-bot==13.7\n",
            "  Downloading python_telegram_bot-13.7-py3-none-any.whl (490 kB)\n",
            "\u001b[2K     \u001b[90m━━━━━━━━━━━━━━━━━━━━━━━━━━━━━━━━━━━━━━━━\u001b[0m \u001b[32m490.1/490.1 kB\u001b[0m \u001b[31m5.2 MB/s\u001b[0m eta \u001b[36m0:00:00\u001b[0m\n",
            "\u001b[?25hRequirement already satisfied: certifi in /usr/local/lib/python3.10/dist-packages (from python-telegram-bot==13.7) (2024.2.2)\n",
            "Requirement already satisfied: tornado>=6.1 in /usr/local/lib/python3.10/dist-packages (from python-telegram-bot==13.7) (6.3.2)\n",
            "Collecting APScheduler==3.6.3 (from python-telegram-bot==13.7)\n",
            "  Downloading APScheduler-3.6.3-py2.py3-none-any.whl (58 kB)\n",
            "\u001b[2K     \u001b[90m━━━━━━━━━━━━━━━━━━━━━━━━━━━━━━━━━━━━━━━━\u001b[0m \u001b[32m58.9/58.9 kB\u001b[0m \u001b[31m4.9 MB/s\u001b[0m eta \u001b[36m0:00:00\u001b[0m\n",
            "\u001b[?25hRequirement already satisfied: pytz>=2018.6 in /usr/local/lib/python3.10/dist-packages (from python-telegram-bot==13.7) (2023.4)\n",
            "Collecting cachetools==4.2.2 (from python-telegram-bot==13.7)\n",
            "  Downloading cachetools-4.2.2-py3-none-any.whl (11 kB)\n",
            "Requirement already satisfied: setuptools>=0.7 in /usr/local/lib/python3.10/dist-packages (from APScheduler==3.6.3->python-telegram-bot==13.7) (67.7.2)\n",
            "Requirement already satisfied: six>=1.4.0 in /usr/local/lib/python3.10/dist-packages (from APScheduler==3.6.3->python-telegram-bot==13.7) (1.16.0)\n",
            "Requirement already satisfied: tzlocal>=1.2 in /usr/local/lib/python3.10/dist-packages (from APScheduler==3.6.3->python-telegram-bot==13.7) (5.2)\n",
            "Installing collected packages: cachetools, APScheduler, python-telegram-bot\n",
            "  Attempting uninstall: cachetools\n",
            "    Found existing installation: cachetools 5.3.2\n",
            "    Uninstalling cachetools-5.3.2:\n",
            "      Successfully uninstalled cachetools-5.3.2\n",
            "\u001b[31mERROR: pip's dependency resolver does not currently take into account all the packages that are installed. This behaviour is the source of the following dependency conflicts.\n",
            "llmx 0.0.15a0 requires cohere, which is not installed.\n",
            "llmx 0.0.15a0 requires openai, which is not installed.\n",
            "llmx 0.0.15a0 requires tiktoken, which is not installed.\u001b[0m\u001b[31m\n",
            "\u001b[0mSuccessfully installed APScheduler-3.6.3 cachetools-4.2.2 python-telegram-bot-13.7\n"
          ]
        }
      ],
      "source": [
        "pip install python-telegram-bot==13.7 --upgrade\n"
      ]
    },
    {
      "cell_type": "code",
      "source": [],
      "metadata": {
        "id": "sdeyNYa0huy1"
      },
      "execution_count": null,
      "outputs": []
    },
    {
      "cell_type": "code",
      "source": [
        "from telegram import Update, InlineKeyboardButton, InlineKeyboardMarkup, ParseMode\n",
        "from telegram.ext import Updater, CommandHandler, CallbackQueryHandler, MessageHandler, Filters, CallbackContext\n",
        "from telegram.error import BadRequest\n",
        "\n",
        "# Simulated \"database\" for demonstration purposes\n",
        "users_database = {\n",
        "    '12345': {'name': 'Ato Ekle', 'balance': 'ETB 794.0 (USD 14.69)', 'package': 'CANAL+ Meda', 'status': 'Disconnected', 'due_date': '06/02/2024'},\n",
        "}\n",
        "\n",
        "# A set to keep track of logged-in users (by user_id)\n",
        "logged_in_users = {}\n",
        "\n",
        "def start(update: Update, context: CallbackContext) -> None:\n",
        "    buttons = [\n",
        "        [InlineKeyboardButton(\"Sign In\", callback_data='sign_in'),\n",
        "         InlineKeyboardButton(\"Activate New CANAL+\", callback_data='activate')]\n",
        "    ]\n",
        "    context.bot.send_photo(\n",
        "        chat_id=update.effective_chat.id,\n",
        "        photo='https://scontent.fadd2-1.fna.fbcdn.net/v/t39.30808-6/304995089_488283769975018_8483364646892795396_n.jpg?_nc_cat=110&ccb=1-7&_nc_sid=efb6e6&_nc_ohc=rkc16eLAGV0AX_M24O-&_nc_ht=scontent.fadd2-1.fna&oh=00_AfAcbhW2oeSSCA4KUvE1EbltygvQr8fpgEOjbzrHzaSjxA&oe=65C80F29',  # Replace with the actual URL of your welcome image\n",
        "        caption=\"Welcome to CANAL+.🙂\\nLet's get started.\",\n",
        "        reply_markup=InlineKeyboardMarkup(buttons)\n",
        "    )\n",
        "\n",
        "def button_handler(update: Update, context: CallbackContext) -> None:\n",
        "    query = update.callback_query\n",
        "    if query is None:\n",
        "        return\n",
        "\n",
        "    query.answer()\n",
        "    data = query.data\n",
        "    user_id = update.effective_user.id\n",
        "\n",
        "    if data == 'sign_in' or data == 'activate':\n",
        "        message = \"Please reply with your CANAL+ ID.\" if data == 'sign_in' else \"Your new CANAL+ account has been activated.\"\n",
        "        context.bot.send_message(chat_id=query.message.chat_id, text=message)\n",
        "    elif data in ('check_balance', 'fix_errors', 'pay', 'change_package'):\n",
        "        handle_actions(data, query, user_id, context)\n",
        "    elif data == 'get_updates':\n",
        "        context.bot.send_message(\n",
        "            chat_id=query.message.chat_id,\n",
        "            text=\"Click here to join our [CANAL+ Updates Channel](https://t.me/canalplusbusiness).\",  # Update with your channel's URL\n",
        "            parse_mode=ParseMode.MARKDOWN,\n",
        "            disable_web_page_preview=True\n",
        "        )\n",
        "    elif data == 'back_to_menu' or data == 'logout':\n",
        "        if data == 'logout' and user_id in logged_in_users:\n",
        "            del logged_in_users[user_id]\n",
        "            context.bot.send_message(chat_id=query.message.chat_id, text=\"You have been logged out of CANAL+.\")\n",
        "        show_main_menu(query.message.chat_id, context, \"What would you like to do next?\")\n",
        "\n",
        "def handle_actions(data, query, user_id, context):\n",
        "    text_responses = {\n",
        "        'check_balance': \"Account Details:\\nBalance: ETB 794.0 (USD 14.69)\\nStatus: Disconnected\\nDue Date: 06/02/2024\",\n",
        "        'fix_errors': \"All errors on your decoder have been fixed.\",\n",
        "        'pay': \"Your payment has been processed successfully.\",\n",
        "        'change_package': \"Your CANAL+ package has been changed to the new selection.\"\n",
        "    }\n",
        "    context.bot.send_message(chat_id=query.message.chat_id, text=text_responses[data], reply_markup=back_to_menu_keyboard())\n",
        "\n",
        "def message_handler(update: Update, context: CallbackContext) -> None:\n",
        "    user_id = update.effective_user.id\n",
        "    text = update.message.text.strip()\n",
        "\n",
        "    if text.isdigit() and text in users_database and user_id not in logged_in_users:\n",
        "        logged_in_users[user_id] = text\n",
        "        show_main_menu(update.message.chat_id, context, f\"Hi {users_database[text]['name']}! What would you like to do?\")\n",
        "    else:\n",
        "        update.message.reply_text(\"We couldn't match your details. Please try again or contact support.\")\n",
        "\n",
        "def show_main_menu(chat_id: int, context: CallbackContext, message: str):\n",
        "    buttons = [\n",
        "        [InlineKeyboardButton(\"Check your Balance\", callback_data='check_balance')],\n",
        "        [InlineKeyboardButton(\"Fix Errors on Decoder\", callback_data='fix_errors')],\n",
        "        [InlineKeyboardButton(\"Pay / Top-Up\", callback_data='pay')],\n",
        "        [InlineKeyboardButton(\"Change Package\", callback_data='change_package')],\n",
        "        [InlineKeyboardButton(\"Get Daily Updates\", callback_data='get_updates')],\n",
        "        [InlineKeyboardButton(\"Log Out\", callback_data='logout')],\n",
        "        [InlineKeyboardButton(\"Back to Menu\", callback_data='back_to_menu')]\n",
        "    ]\n",
        "    context.bot.send_message(chat_id=chat_id, text=message, reply_markup=InlineKeyboardMarkup(buttons))\n",
        "\n",
        "def back_to_menu_keyboard():\n",
        "    return InlineKeyboardMarkup([[InlineKeyboardButton(\"Back to Menu\", callback_data='back_to_menu')]])\n",
        "\n",
        "def main() -> None:\n",
        "    updater = Updater(\"6951520668:AAGyiZoBNKD_8Losz3uthRAwExPak_rwyDA\", use_context=True)  # Replace with your bot's token\n",
        "\n",
        "    dp = updater.dispatcher\n",
        "    dp.add_handler(CommandHandler(\"start\", start))\n",
        "    dp.add_handler(CallbackQueryHandler(button_handler))\n",
        "    dp.add_handler(MessageHandler(Filters.text & ~Filters.command, message_handler))\n",
        "\n",
        "    updater.start_polling()\n",
        "    updater.idle()\n",
        "\n",
        "if __name__ == '__main__':\n",
        "    main()\n"
      ],
      "metadata": {
        "id": "5UO-k6pphzGi"
      },
      "execution_count": null,
      "outputs": []
    }
  ]
}